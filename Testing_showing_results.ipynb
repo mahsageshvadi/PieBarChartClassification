{
 "cells": [
  {
   "cell_type": "code",
   "execution_count": 2,
   "id": "99d463de",
   "metadata": {},
   "outputs": [],
   "source": [
    "import numpy as np\n",
    "from numpy import random\n",
    "import matplotlib.pyplot as plt\n",
    "import cv2"
   ]
  },
  {
   "cell_type": "code",
   "execution_count": 5,
   "id": "1d3623fd",
   "metadata": {},
   "outputs": [],
   "source": [
    "# Config\n",
    "image_length = 100;\n",
    "image_width = 100;\n",
    "number_of_channels = 1;\n",
    "num = 4"
   ]
  },
  {
   "cell_type": "code",
   "execution_count": 6,
   "id": "cc9ec9d7",
   "metadata": {},
   "outputs": [],
   "source": [
    "size = 100\n",
    "max_obj_num = 6"
   ]
  },
  {
   "cell_type": "code",
   "execution_count": 15,
   "id": "bd1d540b",
   "metadata": {},
   "outputs": [],
   "source": [
    "#image = np.zeros(shape=(image_length, image_width, 1),dtype =np.uint8)\n"
   ]
  },
  {
   "cell_type": "code",
   "execution_count": 16,
   "id": "8a0adaf9",
   "metadata": {},
   "outputs": [],
   "source": [
    "    thickness = np.random.randint(1, 3)  # line thickness.   (random)\n",
    "\n",
    "    image = np.ones(shape=(size, size, 1))\n",
    "    subImages = [np.ones(shape=(size,size,1)) for i in range(max_obj_num)]\n",
    "    heights = np.random.randint(10,80,size=(num))\n",
    "\n",
    "    barWidth = int( (size-3*(num+1)-3)//num * (np.random.randint(50,100)/100.0) )\n",
    "    barWidth = max(barWidth, 4)\n",
    "    spaceWidth = (size-(barWidth)*num)//(num+1)\n",
    "\n",
    "    sx = (size - barWidth*num - spaceWidth*(num-1))//2\n",
    "    for i in range(num):\n",
    "\n",
    "        sy = size - 1\n",
    "        ex = sx + barWidth\n",
    "        ey = sy - heights[i]\n",
    "\n",
    "        cv2.rectangle(image,(sx,sy),(ex,ey),0,thickness)\n",
    "        cv2.rectangle(subImages[i],(sx,sy),(ex,ey),0,thickness)\n",
    "        sx = ex + spaceWidth"
   ]
  },
  {
   "cell_type": "code",
   "execution_count": 19,
   "id": "a3f0b8a4",
   "metadata": {},
   "outputs": [],
   "source": [
    "cv2.imshow('this',image*255)"
   ]
  },
  {
   "cell_type": "code",
   "execution_count": 9,
   "id": "4b9a6d94",
   "metadata": {},
   "outputs": [
    {
     "data": {
      "text/plain": [
       "True"
      ]
     },
     "execution_count": 9,
     "metadata": {},
     "output_type": "execute_result"
    }
   ],
   "source": [
    "cv2.imwrite('./test.jpg', image * 255)\n"
   ]
  },
  {
   "cell_type": "code",
   "execution_count": null,
   "id": "739010af",
   "metadata": {},
   "outputs": [],
   "source": []
  },
  {
   "cell_type": "code",
   "execution_count": 14,
   "id": "d11e7006",
   "metadata": {},
   "outputs": [],
   "source": [
    "barWidth = int( (100-3*(5+1)-3)//5 * (np.random.randint(50,100)/100.0) )\n"
   ]
  },
  {
   "cell_type": "code",
   "execution_count": 16,
   "id": "106f9275",
   "metadata": {},
   "outputs": [
    {
     "data": {
      "text/plain": [
       "{'__name__': '__main__',\n",
       " '__doc__': 'Automatically created module for IPython interactive environment',\n",
       " '__package__': None,\n",
       " '__loader__': None,\n",
       " '__spec__': None,\n",
       " '__builtin__': <module 'builtins' (built-in)>,\n",
       " '__builtins__': <module 'builtins' (built-in)>,\n",
       " '_ih': ['',\n",
       "  'np.random.randint(10,80,size=(1))',\n",
       "  'import numpy as np\\nfrom numpy import random\\nimport matplotlib.pyplot as plt\\nimport cv2',\n",
       "  'np.random.randint(10,80,size=(1))',\n",
       "  'np.random.randint(10,80,size=(2))',\n",
       "  'np.random.randint(10,80,size=(100))',\n",
       "  'number_of_bars = np.random.randint(2, config.max_obj_num + 1)\\nthickness = np.random.randint(1, config.max_thickness)\\nheight = np.random.randint(10, config.image_height - 20, size = number_of_bars)',\n",
       "  'barWidth = int( (size-3*(num+1)-3)//num * (np.random.randint(50,100)/100.0) )',\n",
       "  'barWidth = int( (100-3*(5+1)-3)//5 * (np.random.randint(50,100)/100.0) )',\n",
       "  'barWidth',\n",
       "  'barWidth = int( (100-3*(5+1)-3)//5 * (np.random.randint(50,100)/100.0) )',\n",
       "  'barWidth',\n",
       "  'barWidth = int( (100-3*(5+1)-3)//5 * (np.random.randint(50,100)/100.0) )',\n",
       "  'barWidth',\n",
       "  'barWidth = int( (100-3*(5+1)-3)//5 * (np.random.randint(50,100)/100.0) )',\n",
       "  'barWidth',\n",
       "  'locals()'],\n",
       " '_oh': {3: array([57]),\n",
       "  4: array([59, 18]),\n",
       "  5: array([25, 10, 29, 26, 79, 40, 37, 31, 33, 20, 56, 42, 67, 29, 20, 78, 31,\n",
       "         25, 23, 40, 75, 26, 50, 16, 38, 52, 18, 68, 23, 33, 44, 53, 52, 58,\n",
       "         42, 28, 35, 21, 53, 48, 35, 56, 65, 48, 62, 59, 33, 77, 72, 39, 11,\n",
       "         73, 49, 56, 25, 69, 65, 73, 78, 33, 60, 31, 29, 42, 71, 46, 34, 26,\n",
       "         45, 55, 19, 63, 43, 49, 13, 57, 44, 36, 57, 35, 50, 66, 64, 42, 38,\n",
       "         42, 56, 76, 36, 54, 68, 56, 17, 52, 20, 54, 58, 41, 25, 13]),\n",
       "  9: 13,\n",
       "  11: 9,\n",
       "  13: 11,\n",
       "  15: 8},\n",
       " '_dh': [PosixPath('/Users/mahsa/Documents/PhDlife/Courses/1st_Semester/ML/ML_Final/PieBarChartClassification')],\n",
       " 'In': ['',\n",
       "  'np.random.randint(10,80,size=(1))',\n",
       "  'import numpy as np\\nfrom numpy import random\\nimport matplotlib.pyplot as plt\\nimport cv2',\n",
       "  'np.random.randint(10,80,size=(1))',\n",
       "  'np.random.randint(10,80,size=(2))',\n",
       "  'np.random.randint(10,80,size=(100))',\n",
       "  'number_of_bars = np.random.randint(2, config.max_obj_num + 1)\\nthickness = np.random.randint(1, config.max_thickness)\\nheight = np.random.randint(10, config.image_height - 20, size = number_of_bars)',\n",
       "  'barWidth = int( (size-3*(num+1)-3)//num * (np.random.randint(50,100)/100.0) )',\n",
       "  'barWidth = int( (100-3*(5+1)-3)//5 * (np.random.randint(50,100)/100.0) )',\n",
       "  'barWidth',\n",
       "  'barWidth = int( (100-3*(5+1)-3)//5 * (np.random.randint(50,100)/100.0) )',\n",
       "  'barWidth',\n",
       "  'barWidth = int( (100-3*(5+1)-3)//5 * (np.random.randint(50,100)/100.0) )',\n",
       "  'barWidth',\n",
       "  'barWidth = int( (100-3*(5+1)-3)//5 * (np.random.randint(50,100)/100.0) )',\n",
       "  'barWidth',\n",
       "  'locals()'],\n",
       " 'Out': {3: array([57]),\n",
       "  4: array([59, 18]),\n",
       "  5: array([25, 10, 29, 26, 79, 40, 37, 31, 33, 20, 56, 42, 67, 29, 20, 78, 31,\n",
       "         25, 23, 40, 75, 26, 50, 16, 38, 52, 18, 68, 23, 33, 44, 53, 52, 58,\n",
       "         42, 28, 35, 21, 53, 48, 35, 56, 65, 48, 62, 59, 33, 77, 72, 39, 11,\n",
       "         73, 49, 56, 25, 69, 65, 73, 78, 33, 60, 31, 29, 42, 71, 46, 34, 26,\n",
       "         45, 55, 19, 63, 43, 49, 13, 57, 44, 36, 57, 35, 50, 66, 64, 42, 38,\n",
       "         42, 56, 76, 36, 54, 68, 56, 17, 52, 20, 54, 58, 41, 25, 13]),\n",
       "  9: 13,\n",
       "  11: 9,\n",
       "  13: 11,\n",
       "  15: 8},\n",
       " 'get_ipython': <bound method InteractiveShell.get_ipython of <ipykernel.zmqshell.ZMQInteractiveShell object at 0x105f58490>>,\n",
       " 'exit': <IPython.core.autocall.ZMQExitAutocall at 0x105f5ad40>,\n",
       " 'quit': <IPython.core.autocall.ZMQExitAutocall at 0x105f5ad40>,\n",
       " 'open': <function io.open(file, mode='r', buffering=-1, encoding=None, errors=None, newline=None, closefd=True, opener=None)>,\n",
       " '_': 8,\n",
       " '__': 11,\n",
       " '___': 9,\n",
       " '_i': 'barWidth',\n",
       " '_ii': 'barWidth = int( (100-3*(5+1)-3)//5 * (np.random.randint(50,100)/100.0) )',\n",
       " '_iii': 'barWidth',\n",
       " '_i1': 'np.random.randint(10,80,size=(1))',\n",
       " '_i2': 'import numpy as np\\nfrom numpy import random\\nimport matplotlib.pyplot as plt\\nimport cv2',\n",
       " 'np': <module 'numpy' from '/Users/mahsa/Installations/miniconda3/envs/CV/lib/python3.10/site-packages/numpy/__init__.py'>,\n",
       " 'random': <module 'numpy.random' from '/Users/mahsa/Installations/miniconda3/envs/CV/lib/python3.10/site-packages/numpy/random/__init__.py'>,\n",
       " 'plt': <module 'matplotlib.pyplot' from '/Users/mahsa/Installations/miniconda3/envs/CV/lib/python3.10/site-packages/matplotlib/pyplot.py'>,\n",
       " 'cv2': <module 'cv2' from '/Users/mahsa/Installations/miniconda3/envs/CV/lib/python3.10/site-packages/cv2/__init__.py'>,\n",
       " '_i3': 'np.random.randint(10,80,size=(1))',\n",
       " '_3': array([57]),\n",
       " '_i4': 'np.random.randint(10,80,size=(2))',\n",
       " '_4': array([59, 18]),\n",
       " '_i5': 'np.random.randint(10,80,size=(100))',\n",
       " '_5': array([25, 10, 29, 26, 79, 40, 37, 31, 33, 20, 56, 42, 67, 29, 20, 78, 31,\n",
       "        25, 23, 40, 75, 26, 50, 16, 38, 52, 18, 68, 23, 33, 44, 53, 52, 58,\n",
       "        42, 28, 35, 21, 53, 48, 35, 56, 65, 48, 62, 59, 33, 77, 72, 39, 11,\n",
       "        73, 49, 56, 25, 69, 65, 73, 78, 33, 60, 31, 29, 42, 71, 46, 34, 26,\n",
       "        45, 55, 19, 63, 43, 49, 13, 57, 44, 36, 57, 35, 50, 66, 64, 42, 38,\n",
       "        42, 56, 76, 36, 54, 68, 56, 17, 52, 20, 54, 58, 41, 25, 13]),\n",
       " '_i6': '    number_of_bars = np.random.randint(2, config.max_obj_num + 1)\\n    thickness = np.random.randint(1, config.max_thickness)\\n    height = np.random.randint(10, config.image_height - 20, size = number_of_bars)',\n",
       " '_i7': '    barWidth = int( (size-3*(num+1)-3)//num * (np.random.randint(50,100)/100.0) )',\n",
       " '_i8': 'barWidth = int( (100-3*(5+1)-3)//5 * (np.random.randint(50,100)/100.0) )',\n",
       " 'barWidth': 8,\n",
       " '_i9': 'barWidth',\n",
       " '_9': 13,\n",
       " '_i10': 'barWidth = int( (100-3*(5+1)-3)//5 * (np.random.randint(50,100)/100.0) )',\n",
       " '_i11': 'barWidth',\n",
       " '_11': 9,\n",
       " '_i12': 'barWidth = int( (100-3*(5+1)-3)//5 * (np.random.randint(50,100)/100.0) )',\n",
       " '_i13': 'barWidth',\n",
       " '_13': 11,\n",
       " '_i14': 'barWidth = int( (100-3*(5+1)-3)//5 * (np.random.randint(50,100)/100.0) )',\n",
       " '_i15': 'barWidth',\n",
       " '_15': 8,\n",
       " '_i16': 'locals()'}"
      ]
     },
     "execution_count": 16,
     "metadata": {},
     "output_type": "execute_result"
    }
   ],
   "source": [
    "locals()"
   ]
  },
  {
   "cell_type": "code",
   "execution_count": 15,
   "id": "eac7e203",
   "metadata": {},
   "outputs": [],
   "source": [
    "    r = np.random.randint(25,45)        # Radii of the pie. (random)\n",
    "\n",
    "    colors = np.random.uniform(0.0, 0.9,size = (6,3))\n",
    "    center = (int(size/2),int(size/2))  #\n",
    "    image = np.ones(shape=(size, size, 3))\n",
    "    subImages = [np.ones(shape=(size,size,3)) for i in range(6)]\n",
    "    angles = Normalize(np.random.randint(10,60,size=(num)))\n",
    "\n",
    "    start_angle = 90 - np.random.randint(0,360*angles[0])/2.0\n",
    "    _cur_start_angle = start_angle\n",
    "    # cv2.circle(image,center,r,0,thickness)\n",
    "\n",
    "    for i in range(num):\n",
    "        _cur_end_angle = _cur_start_angle + angles[i] * 360.0\n",
    "\n",
    "        cv2.ellipse(image, center, (r, r), 270, -_cur_start_angle, -_cur_end_angle, colors[i], -1)\n",
    "        cv2.ellipse(subImages[i],center,(r,r),270,-_cur_start_angle,-_cur_end_angle,colors[i], -1)\n",
    "        _cur_start_angle = _cur_end_angle\n"
   ]
  },
  {
   "cell_type": "code",
   "execution_count": 19,
   "id": "62f79c44",
   "metadata": {},
   "outputs": [
    {
     "name": "stdout",
     "output_type": "stream",
     "text": [
      "README.md                      build_model.py\r\n",
      "Testing_showing_results.ipynb  config.py\r\n",
      "\u001b[34m__pycache__\u001b[m\u001b[m/                   image_generator.py\r\n"
     ]
    }
   ],
   "source": [
    "ls\n"
   ]
  },
  {
   "cell_type": "code",
   "execution_count": 26,
   "id": "1031c491",
   "metadata": {},
   "outputs": [],
   "source": [
    "import os\n",
    "import pandas as pd\n",
    "\n",
    "filenames = os.listdir(\"../Data/\")\n",
    "categories = []\n",
    "for filename in filenames:\n",
    "    category = filename.split('_')[0]\n",
    "    if category == 'Bar':\n",
    "        categories.append(1)\n",
    "    else:\n",
    "        categories.append(0)\n",
    "\n",
    "df = pd.DataFrame({\n",
    "    'filename': filenames,\n",
    "    'category': categories\n",
    "})"
   ]
  },
  {
   "cell_type": "code",
   "execution_count": 27,
   "id": "61e5e3af",
   "metadata": {},
   "outputs": [
    {
     "data": {
      "text/html": [
       "<div>\n",
       "<style scoped>\n",
       "    .dataframe tbody tr th:only-of-type {\n",
       "        vertical-align: middle;\n",
       "    }\n",
       "\n",
       "    .dataframe tbody tr th {\n",
       "        vertical-align: top;\n",
       "    }\n",
       "\n",
       "    .dataframe thead th {\n",
       "        text-align: right;\n",
       "    }\n",
       "</style>\n",
       "<table border=\"1\" class=\"dataframe\">\n",
       "  <thead>\n",
       "    <tr style=\"text-align: right;\">\n",
       "      <th></th>\n",
       "      <th>filename</th>\n",
       "      <th>category</th>\n",
       "    </tr>\n",
       "  </thead>\n",
       "  <tbody>\n",
       "    <tr>\n",
       "      <th>0</th>\n",
       "      <td>Pie_image87.jpg</td>\n",
       "      <td>0</td>\n",
       "    </tr>\n",
       "    <tr>\n",
       "      <th>1</th>\n",
       "      <td>Pie_image93.jpg</td>\n",
       "      <td>0</td>\n",
       "    </tr>\n",
       "    <tr>\n",
       "      <th>2</th>\n",
       "      <td>Pie_image78.jpg</td>\n",
       "      <td>0</td>\n",
       "    </tr>\n",
       "    <tr>\n",
       "      <th>3</th>\n",
       "      <td>Pie_image44.jpg</td>\n",
       "      <td>0</td>\n",
       "    </tr>\n",
       "    <tr>\n",
       "      <th>4</th>\n",
       "      <td>Pie_image50.jpg</td>\n",
       "      <td>0</td>\n",
       "    </tr>\n",
       "    <tr>\n",
       "      <th>...</th>\n",
       "      <td>...</td>\n",
       "      <td>...</td>\n",
       "    </tr>\n",
       "    <tr>\n",
       "      <th>195</th>\n",
       "      <td>Bar_image63.jpg</td>\n",
       "      <td>1</td>\n",
       "    </tr>\n",
       "    <tr>\n",
       "      <th>196</th>\n",
       "      <td>Bar_image77.jpg</td>\n",
       "      <td>1</td>\n",
       "    </tr>\n",
       "    <tr>\n",
       "      <th>197</th>\n",
       "      <td>Pie_image49.jpg</td>\n",
       "      <td>0</td>\n",
       "    </tr>\n",
       "    <tr>\n",
       "      <th>198</th>\n",
       "      <td>Pie_image75.jpg</td>\n",
       "      <td>0</td>\n",
       "    </tr>\n",
       "    <tr>\n",
       "      <th>199</th>\n",
       "      <td>Pie_image61.jpg</td>\n",
       "      <td>0</td>\n",
       "    </tr>\n",
       "  </tbody>\n",
       "</table>\n",
       "<p>200 rows × 2 columns</p>\n",
       "</div>"
      ],
      "text/plain": [
       "            filename  category\n",
       "0    Pie_image87.jpg         0\n",
       "1    Pie_image93.jpg         0\n",
       "2    Pie_image78.jpg         0\n",
       "3    Pie_image44.jpg         0\n",
       "4    Pie_image50.jpg         0\n",
       "..               ...       ...\n",
       "195  Bar_image63.jpg         1\n",
       "196  Bar_image77.jpg         1\n",
       "197  Pie_image49.jpg         0\n",
       "198  Pie_image75.jpg         0\n",
       "199  Pie_image61.jpg         0\n",
       "\n",
       "[200 rows x 2 columns]"
      ]
     },
     "execution_count": 27,
     "metadata": {},
     "output_type": "execute_result"
    }
   ],
   "source": [
    "df"
   ]
  },
  {
   "cell_type": "code",
   "execution_count": 28,
   "id": "2fadd9a8",
   "metadata": {},
   "outputs": [
    {
     "data": {
      "text/plain": [
       "<AxesSubplot: >"
      ]
     },
     "execution_count": 28,
     "metadata": {},
     "output_type": "execute_result"
    },
    {
     "data": {
      "image/png": "[encoded data removed]",
      "text/plain": [
       "<Figure size 640x480 with 1 Axes>"
      ]
     },
     "metadata": {},
     "output_type": "display_data"
    }
   ],
   "source": [
    "df['category'].value_counts().plot.bar()\n"
   ]
  },
  {
   "cell_type": "code",
   "execution_count": null,
   "id": "b593f314",
   "metadata": {},
   "outputs": [],
   "source": []
  }
 ],
 "metadata": {
  "kernelspec": {
   "display_name": "Python 3 (ipykernel)",
   "language": "python",
   "name": "python3"
  },
  "language_info": {
   "codemirror_mode": {
    "name": "ipython",
    "version": 3
   },
   "file_extension": ".py",
   "mimetype": "text/x-python",
   "name": "python",
   "nbconvert_exporter": "python",
   "pygments_lexer": "ipython3",
   "version": "3.10.8"
  }
 },
 "nbformat": 4,
 "nbformat_minor": 5
}
