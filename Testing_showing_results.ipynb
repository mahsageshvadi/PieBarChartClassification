{
 "cells": [
  {
   "cell_type": "code",
   "execution_count": 2,
   "id": "99d463de",
   "metadata": {},
   "outputs": [],
   "source": [
    "import numpy as np\n",
    "from numpy import random\n",
    "import matplotlib.pyplot as plt\n",
    "import cv2"
   ]
  },
  {
   "cell_type": "code",
   "execution_count": 13,
   "id": "1d3623fd",
   "metadata": {},
   "outputs": [],
   "source": [
    "# Config\n",
    "image_length = 100;\n",
    "image_width = 100;\n",
    "number_of_channels = 1;\n",
    "num = 4"
   ]
  },
  {
   "cell_type": "code",
   "execution_count": 14,
   "id": "cc9ec9d7",
   "metadata": {},
   "outputs": [],
   "source": [
    "size = 100\n",
    "max_obj_num = 6"
   ]
  },
  {
   "cell_type": "code",
   "execution_count": 15,
   "id": "bd1d540b",
   "metadata": {},
   "outputs": [],
   "source": [
    "#image = np.zeros(shape=(image_length, image_width, 1),dtype =np.uint8)\n"
   ]
  },
  {
   "cell_type": "code",
   "execution_count": 16,
   "id": "8a0adaf9",
   "metadata": {},
   "outputs": [],
   "source": [
    "    thickness = np.random.randint(1, 3)  # line thickness.   (random)\n",
    "\n",
    "    image = np.ones(shape=(size, size, 1))\n",
    "    subImages = [np.ones(shape=(size,size,1)) for i in range(max_obj_num)]\n",
    "    heights = np.random.randint(10,80,size=(num))\n",
    "\n",
    "    barWidth = int( (size-3*(num+1)-3)//num * (np.random.randint(50,100)/100.0) )\n",
    "    barWidth = max(barWidth, 4)\n",
    "    spaceWidth = (size-(barWidth)*num)//(num+1)\n",
    "\n",
    "    sx = (size - barWidth*num - spaceWidth*(num-1))//2\n",
    "    for i in range(num):\n",
    "\n",
    "        sy = size - 1\n",
    "        ex = sx + barWidth\n",
    "        ey = sy - heights[i]\n",
    "\n",
    "        cv2.rectangle(image,(sx,sy),(ex,ey),0,thickness)\n",
    "        cv2.rectangle(subImages[i],(sx,sy),(ex,ey),0,thickness)\n",
    "        sx = ex + spaceWidth"
   ]
  },
  {
   "cell_type": "code",
   "execution_count": 19,
   "id": "a3f0b8a4",
   "metadata": {},
   "outputs": [],
   "source": [
    "cv2.imshow('this',image*255)"
   ]
  },
  {
   "cell_type": "code",
   "execution_count": 9,
   "id": "4b9a6d94",
   "metadata": {},
   "outputs": [
    {
     "data": {
      "text/plain": [
       "True"
      ]
     },
     "execution_count": 9,
     "metadata": {},
     "output_type": "execute_result"
    }
   ],
   "source": [
    "cv2.imwrite('./test.jpg', image * 255)\n"
   ]
  },
  {
   "cell_type": "code",
   "execution_count": null,
   "id": "739010af",
   "metadata": {},
   "outputs": [],
   "source": []
  },
  {
   "cell_type": "code",
   "execution_count": 14,
   "id": "fb563542",
   "metadata": {},
   "outputs": [],
   "source": [
    "barWidth = int( (100-3*(5+1)-3)//5 * (np.random.randint(50,100)/100.0) )\n"
   ]
  },
  {
   "cell_type": "code",
   "execution_count": 15,
   "id": "c1210aaf",
   "metadata": {},
   "outputs": [
    {
     "data": {
      "text/plain": [
       "8"
      ]
     },
     "execution_count": 15,
     "metadata": {},
     "output_type": "execute_result"
    }
   ],
   "source": [
    "barWidth\n"
   ]
  },
  {
   "cell_type": "code",
   "execution_count": null,
   "id": "80ae9977",
   "metadata": {},
   "outputs": [],
   "source": []
  },
  {
   "cell_type": "code",
   "execution_count": null,
   "id": "ebbd34bd",
   "metadata": {},
   "outputs": [],
   "source": []
  }
 ],
 "metadata": {
  "kernelspec": {
   "display_name": "Python 3 (ipykernel)",
   "language": "python",
   "name": "python3"
  },
  "language_info": {
   "codemirror_mode": {
    "name": "ipython",
    "version": 3
   },
   "file_extension": ".py",
   "mimetype": "text/x-python",
   "name": "python",
   "nbconvert_exporter": "python",
   "pygments_lexer": "ipython3",
   "version": "3.10.8"
  }
 },
 "nbformat": 4,
 "nbformat_minor": 5
}
