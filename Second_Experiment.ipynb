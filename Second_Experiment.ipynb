{
 "cells": [
  {
   "cell_type": "markdown",
   "id": "d856bbe6",
   "metadata": {},
   "source": [
    "# First we generate 10000 data"
   ]
  },
  {
   "cell_type": "markdown",
   "id": "03e189ac",
   "metadata": {},
   "source": [
    "Preparing data"
   ]
  },
  {
   "cell_type": "code",
   "execution_count": 34,
   "id": "c8b8c84a",
   "metadata": {},
   "outputs": [],
   "source": [
    "import os\n",
    "import pandas as pd\n",
    "import numpy as np\n",
    "from PIL import Image\n",
    "\n",
    "import seaborn as sns \n",
    "import matplotlib \n",
    "import matplotlib.pyplot as plt \n",
    "\n",
    "from keras.preprocessing.image import (ImageDataGenerator, \n",
    "                                       img_to_array, \n",
    "                                       array_to_img, \n",
    "                                       load_img)\n",
    "\n",
    "from sklearn.model_selection import train_test_split\n",
    "\n",
    "from sklearn.metrics import (confusion_matrix, \n",
    "                             classification_report, \n",
    "                             accuracy_score, \n",
    "                             f1_score, \n",
    "                             roc_auc_score)\n",
    "\n",
    "import tensorflow as tf\n",
    "from keras.models import Model,Sequential\n",
    "from keras.layers import Conv2D, MaxPooling2D, Dropout, Dense,Flatten\n",
    "\n",
    "from keras import optimizers\n",
    "from keras import regularizers\n",
    "from keras.callbacks import EarlyStopping,LearningRateScheduler\n",
    "\n",
    "\n",
    "from keras import backend as K\n",
    "K.clear_session()\n",
    "\n",
    "from sklearn.utils import shuffle\n",
    "\n"
   ]
  },
  {
   "cell_type": "code",
   "execution_count": 35,
   "id": "f8b3be58",
   "metadata": {},
   "outputs": [],
   "source": [
    "from config import Config\n",
    "\n",
    "\n",
    "config  = Config()\n",
    "\n",
    "IMAGE_SIZE=(config.image_width, config.image_height)\n",
    "IMAGE_CHANNELS= config.number_of_channels"
   ]
  },
  {
   "cell_type": "code",
   "execution_count": 36,
   "id": "5e18aaac",
   "metadata": {},
   "outputs": [],
   "source": [
    "train_dir = config.train_data_dir\n",
    "test_dir = config.test_data_dir"
   ]
  },
  {
   "cell_type": "code",
   "execution_count": 37,
   "id": "9c4a95e1",
   "metadata": {},
   "outputs": [],
   "source": [
    "def label(path): \n",
    "    return [file.split('_')[0] for file in os.listdir(path)]\n",
    "\n",
    "def filename(path):\n",
    "    return [file for file in os.listdir(path)]\n",
    "\n",
    "train_names = filename(train_dir) \n",
    "test_names = filename(test_dir)\n",
    "train_class = label(train_dir)\n"
   ]
  },
  {
   "cell_type": "code",
   "execution_count": 38,
   "id": "726d2342",
   "metadata": {},
   "outputs": [],
   "source": [
    "test_class = label(test_dir)\n",
    "test_df = pd.DataFrame({'filename': test_names , 'category': test_class})\n"
   ]
  },
  {
   "cell_type": "code",
   "execution_count": 39,
   "id": "215f2336",
   "metadata": {},
   "outputs": [],
   "source": [
    "train_df = pd.DataFrame({ 'filename': train_names, 'category': train_class})\n"
   ]
  },
  {
   "cell_type": "code",
   "execution_count": 40,
   "id": "24848de1",
   "metadata": {},
   "outputs": [],
   "source": [
    "valid_df, train_df = train_test_split(train_df, test_size = (6/8))"
   ]
  },
  {
   "cell_type": "code",
   "execution_count": 41,
   "id": "2cdb4e92",
   "metadata": {},
   "outputs": [],
   "source": [
    "batch_size = 132\n"
   ]
  },
  {
   "cell_type": "code",
   "execution_count": 42,
   "id": "5e3f06b5",
   "metadata": {},
   "outputs": [],
   "source": [
    "train_map = ImageDataGenerator()\n",
    "valid_map = ImageDataGenerator()\n",
    "test_map =  ImageDataGenerator()"
   ]
  },
  {
   "cell_type": "code",
   "execution_count": 43,
   "id": "b96f4818",
   "metadata": {},
   "outputs": [
    {
     "name": "stdout",
     "output_type": "stream",
     "text": [
      "Found 6000 validated image filenames belonging to 2 classes.\n",
      "Found 2000 validated image filenames belonging to 2 classes.\n",
      "Found 2000 validated image filenames.\n"
     ]
    }
   ],
   "source": [
    "train_data = train_map.flow_from_dataframe(\n",
    "            train_df,train_dir,\n",
    "            x_col = 'filename',\n",
    "            y_col = 'category',\n",
    "            target_size = IMAGE_SIZE,\n",
    "            batch_size = batch_size,\n",
    "            class_mode = 'categorical')\n",
    "\n",
    "valid_data = valid_map.flow_from_dataframe(\n",
    "             valid_df, train_dir,\n",
    "             x_col = 'filename',\n",
    "             y_col = 'category',\n",
    "             target_size = IMAGE_SIZE,\n",
    "             batch_size = batch_size,\n",
    "             class_mode = 'categorical')\n",
    "\n",
    "\n",
    "test_data = test_map.flow_from_dataframe(\n",
    "             test_df, train_dir,\n",
    "             x_col = 'filename',\n",
    "             y_col = None,\n",
    "             target_size = IMAGE_SIZE,\n",
    "             batch_size = batch_size,\n",
    "             class_mode = None,\n",
    "             shuffle = False)"
   ]
  },
  {
   "cell_type": "markdown",
   "id": "c6cce61d",
   "metadata": {},
   "source": [
    "Model"
   ]
  },
  {
   "cell_type": "code",
   "execution_count": 44,
   "id": "f402eb6b",
   "metadata": {},
   "outputs": [
    {
     "name": "stdout",
     "output_type": "stream",
     "text": [
      "Model: \"sequential\"\n",
      "_________________________________________________________________\n",
      "Layer (type)                 Output Shape              Param #   \n",
      "=================================================================\n",
      "conv2d (Conv2D)              (None, 98, 98, 32)        896       \n",
      "_________________________________________________________________\n",
      "max_pooling2d (MaxPooling2D) (None, 49, 49, 32)        0         \n",
      "_________________________________________________________________\n",
      "dropout (Dropout)            (None, 49, 49, 32)        0         \n",
      "_________________________________________________________________\n",
      "conv2d_1 (Conv2D)            (None, 47, 47, 64)        18496     \n",
      "_________________________________________________________________\n",
      "max_pooling2d_1 (MaxPooling2 (None, 23, 23, 64)        0         \n",
      "_________________________________________________________________\n",
      "dropout_1 (Dropout)          (None, 23, 23, 64)        0         \n",
      "_________________________________________________________________\n",
      "conv2d_2 (Conv2D)            (None, 21, 21, 128)       73856     \n",
      "_________________________________________________________________\n",
      "max_pooling2d_2 (MaxPooling2 (None, 10, 10, 128)       0         \n",
      "_________________________________________________________________\n",
      "dropout_2 (Dropout)          (None, 10, 10, 128)       0         \n",
      "_________________________________________________________________\n",
      "flatten (Flatten)            (None, 12800)             0         \n",
      "_________________________________________________________________\n",
      "dense (Dense)                (None, 512)               6554112   \n",
      "_________________________________________________________________\n",
      "dropout_3 (Dropout)          (None, 512)               0         \n",
      "_________________________________________________________________\n",
      "dense_1 (Dense)              (None, 2)                 1026      \n",
      "=================================================================\n",
      "Total params: 6,648,386\n",
      "Trainable params: 6,648,386\n",
      "Non-trainable params: 0\n",
      "_________________________________________________________________\n"
     ]
    }
   ],
   "source": [
    "from keras.layers import Conv2D, MaxPooling2D, Dropout, Flatten, Dense, Activation, BatchNormalization\n",
    "\n",
    "model = Sequential()\n",
    "\n",
    "model.add(Conv2D(32, (3, 3), activation='relu', input_shape=(config.image_width, config.image_height, config.number_of_channels\n",
    "                                                            )))\n",
    "model.add(MaxPooling2D(pool_size=(2, 2)))\n",
    "model.add(Dropout(0.25))\n",
    "\n",
    "model.add(Conv2D(64, (3, 3), activation='relu'))\n",
    "model.add(MaxPooling2D(pool_size=(2, 2)))\n",
    "model.add(Dropout(0.25))\n",
    "\n",
    "model.add(Conv2D(128, (3, 3), activation='relu'))\n",
    "model.add(MaxPooling2D(pool_size=(2, 2)))\n",
    "model.add(Dropout(0.25))\n",
    "\n",
    "model.add(Flatten())\n",
    "model.add(Dense(512, activation='relu'))\n",
    "model.add(Dropout(0.5))\n",
    "model.add(Dense(2, activation='softmax')) \n",
    "\n",
    "\n",
    "model.summary()"
   ]
  },
  {
   "cell_type": "code",
   "execution_count": 45,
   "id": "454fe952",
   "metadata": {},
   "outputs": [
    {
     "name": "stdout",
     "output_type": "stream",
     "text": [
      "Epoch 1/50\n",
      "45/45 [==============================] - 19s 259ms/step - loss: 491.7973 - accuracy: 0.5752 - val_loss: 0.3300 - val_accuracy: 0.8475\n",
      "Epoch 2/50\n",
      "45/45 [==============================] - 4s 83ms/step - loss: 0.0687 - accuracy: 0.9767 - val_loss: 0.0359 - val_accuracy: 0.9894\n",
      "Epoch 3/50\n",
      "45/45 [==============================] - 4s 80ms/step - loss: 0.0322 - accuracy: 0.9888 - val_loss: 0.0136 - val_accuracy: 1.0000\n",
      "Epoch 4/50\n",
      "45/45 [==============================] - 4s 82ms/step - loss: 0.0038 - accuracy: 0.9989 - val_loss: 1.1308e-04 - val_accuracy: 1.0000\n",
      "Epoch 5/50\n",
      "45/45 [==============================] - 4s 87ms/step - loss: 0.0046 - accuracy: 0.9991 - val_loss: 3.0780e-04 - val_accuracy: 1.0000\n",
      "Epoch 6/50\n",
      "45/45 [==============================] - 4s 80ms/step - loss: 5.3811e-04 - accuracy: 0.9999 - val_loss: 6.9784e-06 - val_accuracy: 1.0000\n",
      "Epoch 7/50\n",
      "45/45 [==============================] - 4s 88ms/step - loss: 0.0055 - accuracy: 0.9994 - val_loss: 0.0146 - val_accuracy: 0.9939\n",
      "Epoch 8/50\n",
      "45/45 [==============================] - 4s 81ms/step - loss: 0.0089 - accuracy: 0.9968 - val_loss: 0.0080 - val_accuracy: 0.9995\n",
      "Epoch 9/50\n",
      "45/45 [==============================] - 4s 86ms/step - loss: 0.0242 - accuracy: 0.9923 - val_loss: 3.3698e-05 - val_accuracy: 1.0000\n",
      "Epoch 10/50\n",
      "45/45 [==============================] - 4s 79ms/step - loss: 2.1925e-04 - accuracy: 1.0000 - val_loss: 4.2461e-06 - val_accuracy: 1.0000\n",
      "Epoch 11/50\n",
      "45/45 [==============================] - 4s 79ms/step - loss: 7.8913e-04 - accuracy: 0.9996 - val_loss: 6.4915e-05 - val_accuracy: 1.0000\n",
      "Epoch 12/50\n",
      "45/45 [==============================] - 4s 79ms/step - loss: 0.0070 - accuracy: 0.9985 - val_loss: 2.1984e-04 - val_accuracy: 1.0000\n",
      "Epoch 13/50\n",
      "45/45 [==============================] - 4s 85ms/step - loss: 6.0100e-04 - accuracy: 0.9997 - val_loss: 2.0647e-05 - val_accuracy: 1.0000\n",
      "Epoch 14/50\n",
      "45/45 [==============================] - 4s 78ms/step - loss: 9.2984e-04 - accuracy: 0.9993 - val_loss: 6.2192e-04 - val_accuracy: 1.0000\n",
      "Epoch 15/50\n",
      "45/45 [==============================] - 4s 79ms/step - loss: 4.9378e-04 - accuracy: 0.9998 - val_loss: 1.5783e-04 - val_accuracy: 1.0000\n",
      "Epoch 16/50\n",
      "45/45 [==============================] - 4s 81ms/step - loss: 0.0012 - accuracy: 0.9991 - val_loss: 1.8097e-07 - val_accuracy: 1.0000\n",
      "Epoch 17/50\n",
      "45/45 [==============================] - 4s 78ms/step - loss: 6.8405e-04 - accuracy: 0.9998 - val_loss: 0.0017 - val_accuracy: 0.9995\n",
      "Epoch 18/50\n",
      "45/45 [==============================] - 4s 82ms/step - loss: 0.0591 - accuracy: 0.9849 - val_loss: 0.0088 - val_accuracy: 0.9995\n",
      "Epoch 19/50\n",
      "45/45 [==============================] - 4s 82ms/step - loss: 0.0146 - accuracy: 0.9960 - val_loss: 0.0021 - val_accuracy: 1.0000\n",
      "Epoch 20/50\n",
      "45/45 [==============================] - 4s 77ms/step - loss: 0.0056 - accuracy: 0.9983 - val_loss: 3.9901e-04 - val_accuracy: 1.0000\n",
      "Epoch 21/50\n",
      "45/45 [==============================] - 4s 83ms/step - loss: 0.0205 - accuracy: 0.9976 - val_loss: 6.6792e-04 - val_accuracy: 1.0000\n",
      "Epoch 22/50\n",
      "45/45 [==============================] - 4s 79ms/step - loss: 0.0021 - accuracy: 0.9989 - val_loss: 2.5798e-04 - val_accuracy: 1.0000\n",
      "Epoch 23/50\n",
      "45/45 [==============================] - 4s 83ms/step - loss: 6.0138e-04 - accuracy: 0.9996 - val_loss: 2.0604e-04 - val_accuracy: 1.0000\n",
      "Epoch 24/50\n",
      "45/45 [==============================] - 4s 80ms/step - loss: 0.0020 - accuracy: 0.9993 - val_loss: 6.6699e-05 - val_accuracy: 1.0000\n",
      "Epoch 25/50\n",
      "45/45 [==============================] - 3s 77ms/step - loss: 4.5567e-04 - accuracy: 1.0000 - val_loss: 5.6781e-05 - val_accuracy: 1.0000\n",
      "Epoch 26/50\n",
      "45/45 [==============================] - 4s 79ms/step - loss: 0.0047 - accuracy: 0.9992 - val_loss: 4.7827e-04 - val_accuracy: 1.0000\n",
      "Epoch 27/50\n",
      "45/45 [==============================] - 4s 82ms/step - loss: 0.0072 - accuracy: 0.9989 - val_loss: 1.2041e-10 - val_accuracy: 1.0000\n",
      "Epoch 28/50\n",
      "45/45 [==============================] - 4s 83ms/step - loss: 0.0039 - accuracy: 0.9998 - val_loss: 1.7098e-08 - val_accuracy: 1.0000\n",
      "Epoch 29/50\n",
      "45/45 [==============================] - 4s 86ms/step - loss: 0.0040 - accuracy: 0.9996 - val_loss: 8.3003e-04 - val_accuracy: 1.0000\n",
      "Epoch 30/50\n",
      "45/45 [==============================] - 4s 80ms/step - loss: 0.0199 - accuracy: 0.9966 - val_loss: 8.9634e-04 - val_accuracy: 1.0000\n",
      "Epoch 31/50\n",
      "45/45 [==============================] - 4s 82ms/step - loss: 0.0028 - accuracy: 0.9989 - val_loss: 1.1510e-07 - val_accuracy: 1.0000\n",
      "Epoch 32/50\n",
      "45/45 [==============================] - 4s 84ms/step - loss: 0.0042 - accuracy: 0.9986 - val_loss: 2.7031e-05 - val_accuracy: 1.0000\n",
      "Epoch 33/50\n",
      "45/45 [==============================] - 4s 81ms/step - loss: 0.0035 - accuracy: 0.9992 - val_loss: 2.0881e-06 - val_accuracy: 1.0000\n",
      "Epoch 34/50\n",
      "45/45 [==============================] - 4s 80ms/step - loss: 2.9916e-04 - accuracy: 1.0000 - val_loss: 3.2270e-08 - val_accuracy: 1.0000\n",
      "Epoch 35/50\n",
      "45/45 [==============================] - 4s 83ms/step - loss: 1.1796e-04 - accuracy: 1.0000 - val_loss: 1.2643e-09 - val_accuracy: 1.0000\n",
      "Epoch 36/50\n",
      "45/45 [==============================] - 4s 81ms/step - loss: 9.3452e-04 - accuracy: 0.9997 - val_loss: 7.8025e-08 - val_accuracy: 1.0000\n",
      "Epoch 37/50\n",
      "45/45 [==============================] - 4s 81ms/step - loss: 1.1250e-04 - accuracy: 0.9999 - val_loss: 2.9140e-08 - val_accuracy: 1.0000\n",
      "Epoch 38/50\n",
      "45/45 [==============================] - 4s 84ms/step - loss: 0.0011 - accuracy: 0.9997 - val_loss: 5.0048e-04 - val_accuracy: 1.0000\n",
      "Epoch 39/50\n",
      "45/45 [==============================] - 4s 84ms/step - loss: 0.0054 - accuracy: 0.9988 - val_loss: 2.0831e-08 - val_accuracy: 1.0000\n",
      "Epoch 40/50\n",
      "45/45 [==============================] - 4s 83ms/step - loss: 9.0268e-04 - accuracy: 0.9999 - val_loss: 6.2013e-09 - val_accuracy: 1.0000\n",
      "Epoch 41/50\n",
      "45/45 [==============================] - 4s 82ms/step - loss: 0.0016 - accuracy: 0.9993 - val_loss: 3.5343e-06 - val_accuracy: 1.0000\n",
      "Epoch 42/50\n",
      "45/45 [==============================] - 4s 80ms/step - loss: 1.8582e-04 - accuracy: 0.9999 - val_loss: 2.1199e-06 - val_accuracy: 1.0000\n",
      "Epoch 43/50\n",
      "45/45 [==============================] - 4s 82ms/step - loss: 0.0043 - accuracy: 0.9991 - val_loss: 6.5038e-05 - val_accuracy: 1.0000\n",
      "Epoch 44/50\n",
      "45/45 [==============================] - 3s 77ms/step - loss: 0.0070 - accuracy: 0.9980 - val_loss: 4.2145e-10 - val_accuracy: 1.0000\n",
      "Epoch 45/50\n",
      "45/45 [==============================] - 4s 80ms/step - loss: 4.4436e-05 - accuracy: 1.0000 - val_loss: 1.6557e-08 - val_accuracy: 1.0000\n",
      "Epoch 46/50\n",
      "45/45 [==============================] - 4s 80ms/step - loss: 4.9699e-04 - accuracy: 0.9998 - val_loss: 1.4088e-08 - val_accuracy: 1.0000\n",
      "Epoch 47/50\n",
      "45/45 [==============================] - 4s 82ms/step - loss: 6.8902e-06 - accuracy: 1.0000 - val_loss: 7.0441e-09 - val_accuracy: 1.0000\n",
      "Epoch 48/50\n",
      "45/45 [==============================] - 4s 82ms/step - loss: 2.7949e-06 - accuracy: 1.0000 - val_loss: 5.4788e-09 - val_accuracy: 1.0000\n",
      "Epoch 49/50\n",
      "45/45 [==============================] - 4s 80ms/step - loss: 2.3919e-06 - accuracy: 1.0000 - val_loss: 4.1542e-09 - val_accuracy: 1.0000\n",
      "Epoch 50/50\n",
      "45/45 [==============================] - 4s 82ms/step - loss: 3.3124e-06 - accuracy: 1.0000 - val_loss: 2.5889e-09 - val_accuracy: 1.0000\n"
     ]
    }
   ],
   "source": [
    "loss = 'categorical_crossentropy'\n",
    "opt = tf.keras.optimizers.Adam(learning_rate= 0.001)\n",
    "metrics = ['accuracy']\n",
    "\n",
    "train_images = train_df.shape[0]\n",
    "valid_images = valid_df.shape[0]\n",
    "model.compile(loss = loss, optimizer = opt, metrics = metrics)\n",
    "\n",
    "\n",
    "# fitting the model for training dataset\n",
    "history = model.fit(train_data, epochs = 50,\n",
    "                          validation_data = valid_data,\n",
    "                          validation_steps= valid_images//batch_size,\n",
    "                          steps_per_epoch= train_images//batch_size)"
   ]
  },
  {
   "cell_type": "code",
   "execution_count": 46,
   "id": "e512def4",
   "metadata": {},
   "outputs": [
    {
     "data": {
      "image/png": "[encoded data removed]",
      "text/plain": [
       "<Figure size 432x288 with 1 Axes>"
      ]
     },
     "metadata": {
      "needs_background": "light"
     },
     "output_type": "display_data"
    }
   ],
   "source": [
    "plt.plot(history.history['accuracy'])\n",
    "plt.plot(history.history['val_accuracy'])\n",
    "plt.title('model accuracy')\n",
    "plt.ylabel('accuracy')\n",
    "plt.xlabel('epoch')\n",
    "plt.legend(['train', 'validation'], loc='lower left')\n",
    "plt.show()\n"
   ]
  },
  {
   "cell_type": "code",
   "execution_count": null,
   "id": "f6e2dc23",
   "metadata": {},
   "outputs": [],
   "source": []
  },
  {
   "cell_type": "code",
   "execution_count": null,
   "id": "658d0a75",
   "metadata": {},
   "outputs": [],
   "source": []
  },
  {
   "cell_type": "markdown",
   "id": "a69e304a",
   "metadata": {},
   "source": [
    "# Lets train the data on model with batch normalization as well in order to compare them \n"
   ]
  },
  {
   "cell_type": "code",
   "execution_count": 47,
   "id": "523f8e27",
   "metadata": {},
   "outputs": [
    {
     "name": "stdout",
     "output_type": "stream",
     "text": [
      "Model: \"sequential_1\"\n",
      "_________________________________________________________________\n",
      "Layer (type)                 Output Shape              Param #   \n",
      "=================================================================\n",
      "conv2d_3 (Conv2D)            (None, 98, 98, 32)        896       \n",
      "_________________________________________________________________\n",
      "batch_normalization (BatchNo (None, 98, 98, 32)        128       \n",
      "_________________________________________________________________\n",
      "max_pooling2d_3 (MaxPooling2 (None, 49, 49, 32)        0         \n",
      "_________________________________________________________________\n",
      "dropout_4 (Dropout)          (None, 49, 49, 32)        0         \n",
      "_________________________________________________________________\n",
      "conv2d_4 (Conv2D)            (None, 47, 47, 64)        18496     \n",
      "_________________________________________________________________\n",
      "batch_normalization_1 (Batch (None, 47, 47, 64)        256       \n",
      "_________________________________________________________________\n",
      "max_pooling2d_4 (MaxPooling2 (None, 23, 23, 64)        0         \n",
      "_________________________________________________________________\n",
      "dropout_5 (Dropout)          (None, 23, 23, 64)        0         \n",
      "_________________________________________________________________\n",
      "conv2d_5 (Conv2D)            (None, 21, 21, 128)       73856     \n",
      "_________________________________________________________________\n",
      "batch_normalization_2 (Batch (None, 21, 21, 128)       512       \n",
      "_________________________________________________________________\n",
      "max_pooling2d_5 (MaxPooling2 (None, 10, 10, 128)       0         \n",
      "_________________________________________________________________\n",
      "dropout_6 (Dropout)          (None, 10, 10, 128)       0         \n",
      "_________________________________________________________________\n",
      "flatten_1 (Flatten)          (None, 12800)             0         \n",
      "_________________________________________________________________\n",
      "dense_2 (Dense)              (None, 512)               6554112   \n",
      "_________________________________________________________________\n",
      "batch_normalization_3 (Batch (None, 512)               2048      \n",
      "_________________________________________________________________\n",
      "dropout_7 (Dropout)          (None, 512)               0         \n",
      "_________________________________________________________________\n",
      "dense_3 (Dense)              (None, 2)                 1026      \n",
      "=================================================================\n",
      "Total params: 6,651,330\n",
      "Trainable params: 6,649,858\n",
      "Non-trainable params: 1,472\n",
      "_________________________________________________________________\n"
     ]
    }
   ],
   "source": [
    "model2 = Sequential()\n",
    "\n",
    "model2.add(Conv2D(32, (3, 3), activation='relu', input_shape=(config.image_width, config.image_height, config.number_of_channels\n",
    "                                                            )))\n",
    "model2.add(BatchNormalization())\n",
    "model2.add(MaxPooling2D(pool_size=(2, 2)))\n",
    "model2.add(Dropout(0.25))\n",
    "\n",
    "model2.add(Conv2D(64, (3, 3), activation='relu'))\n",
    "model2.add(BatchNormalization())\n",
    "model2.add(MaxPooling2D(pool_size=(2, 2)))\n",
    "model2.add(Dropout(0.25))\n",
    "\n",
    "model2.add(Conv2D(128, (3, 3), activation='relu'))\n",
    "model2.add(BatchNormalization())\n",
    "model2.add(MaxPooling2D(pool_size=(2, 2)))\n",
    "model2.add(Dropout(0.25))\n",
    "\n",
    "model2.add(Flatten())\n",
    "model2.add(Dense(512, activation='relu'))\n",
    "model2.add(BatchNormalization())\n",
    "model2.add(Dropout(0.5))\n",
    "model2.add(Dense(2, activation='softmax')) \n",
    "\n",
    "\n",
    "model2.summary()"
   ]
  },
  {
   "cell_type": "code",
   "execution_count": null,
   "id": "2ad34ddb",
   "metadata": {},
   "outputs": [],
   "source": []
  },
  {
   "cell_type": "code",
   "execution_count": 48,
   "id": "7d5ccb3c",
   "metadata": {},
   "outputs": [
    {
     "name": "stdout",
     "output_type": "stream",
     "text": [
      "Epoch 1/50\n",
      "45/45 [==============================] - 4s 81ms/step - loss: 0.1851 - accuracy: 0.9401 - val_loss: 1.8721 - val_accuracy: 0.5682\n",
      "Epoch 2/50\n",
      "45/45 [==============================] - 4s 88ms/step - loss: 2.2462e-04 - accuracy: 1.0000 - val_loss: 0.0073 - val_accuracy: 0.9985\n",
      "Epoch 3/50\n",
      "45/45 [==============================] - 4s 84ms/step - loss: 1.8604e-04 - accuracy: 1.0000 - val_loss: 0.0397 - val_accuracy: 0.9859\n",
      "Epoch 4/50\n",
      "45/45 [==============================] - 4s 78ms/step - loss: 3.8376e-04 - accuracy: 1.0000 - val_loss: 0.0789 - val_accuracy: 0.9712\n",
      "Epoch 5/50\n",
      "45/45 [==============================] - 3s 76ms/step - loss: 1.3849e-05 - accuracy: 1.0000 - val_loss: 0.0513 - val_accuracy: 0.9813\n",
      "Epoch 6/50\n",
      "45/45 [==============================] - 4s 79ms/step - loss: 1.6810e-05 - accuracy: 1.0000 - val_loss: 0.0220 - val_accuracy: 0.9924\n",
      "Epoch 7/50\n",
      "45/45 [==============================] - 4s 80ms/step - loss: 1.1258e-05 - accuracy: 1.0000 - val_loss: 0.0037 - val_accuracy: 0.9985\n",
      "Epoch 8/50\n",
      "45/45 [==============================] - 4s 85ms/step - loss: 1.6486e-05 - accuracy: 1.0000 - val_loss: 5.6687e-04 - val_accuracy: 1.0000\n",
      "Epoch 9/50\n",
      "45/45 [==============================] - 4s 80ms/step - loss: 5.6100e-05 - accuracy: 1.0000 - val_loss: 1.6512e-05 - val_accuracy: 1.0000\n",
      "Epoch 10/50\n",
      "45/45 [==============================] - 4s 78ms/step - loss: 6.9439e-05 - accuracy: 1.0000 - val_loss: 0.0012 - val_accuracy: 0.9995\n",
      "Epoch 11/50\n",
      "45/45 [==============================] - 3s 77ms/step - loss: 0.0015 - accuracy: 0.9996 - val_loss: 1.9925 - val_accuracy: 0.6601\n",
      "Epoch 12/50\n",
      "45/45 [==============================] - 4s 80ms/step - loss: 2.2624e-04 - accuracy: 1.0000 - val_loss: 1.0385e-04 - val_accuracy: 1.0000\n",
      "Epoch 13/50\n",
      "45/45 [==============================] - 3s 77ms/step - loss: 9.9062e-05 - accuracy: 1.0000 - val_loss: 1.7066e-05 - val_accuracy: 1.0000\n",
      "Epoch 14/50\n",
      "45/45 [==============================] - 4s 77ms/step - loss: 1.7633e-04 - accuracy: 1.0000 - val_loss: 2.3802e-05 - val_accuracy: 1.0000\n",
      "Epoch 15/50\n",
      "45/45 [==============================] - 4s 80ms/step - loss: 4.8094e-06 - accuracy: 1.0000 - val_loss: 9.5285e-06 - val_accuracy: 1.0000\n",
      "Epoch 16/50\n",
      "45/45 [==============================] - 4s 81ms/step - loss: 1.0030e-05 - accuracy: 1.0000 - val_loss: 7.7283e-06 - val_accuracy: 1.0000\n",
      "Epoch 17/50\n",
      "45/45 [==============================] - 4s 80ms/step - loss: 2.4667e-06 - accuracy: 1.0000 - val_loss: 1.4009e-05 - val_accuracy: 1.0000\n",
      "Epoch 18/50\n",
      "45/45 [==============================] - 3s 76ms/step - loss: 1.4460e-05 - accuracy: 1.0000 - val_loss: 1.8511e-05 - val_accuracy: 1.0000\n",
      "Epoch 19/50\n",
      "45/45 [==============================] - 4s 82ms/step - loss: 3.1415e-06 - accuracy: 1.0000 - val_loss: 1.3769e-05 - val_accuracy: 1.0000\n",
      "Epoch 20/50\n",
      "45/45 [==============================] - 4s 82ms/step - loss: 2.7192e-06 - accuracy: 1.0000 - val_loss: 1.0013e-05 - val_accuracy: 1.0000\n",
      "Epoch 21/50\n",
      "45/45 [==============================] - 4s 79ms/step - loss: 2.2425e-06 - accuracy: 1.0000 - val_loss: 7.8740e-06 - val_accuracy: 1.0000\n",
      "Epoch 22/50\n",
      "45/45 [==============================] - 4s 82ms/step - loss: 4.1514e-06 - accuracy: 1.0000 - val_loss: 6.3626e-06 - val_accuracy: 1.0000\n",
      "Epoch 23/50\n",
      "45/45 [==============================] - 4s 81ms/step - loss: 1.8869e-06 - accuracy: 1.0000 - val_loss: 5.0893e-06 - val_accuracy: 1.0000\n",
      "Epoch 24/50\n",
      "45/45 [==============================] - 4s 79ms/step - loss: 2.0230e-06 - accuracy: 1.0000 - val_loss: 4.0214e-06 - val_accuracy: 1.0000\n",
      "Epoch 25/50\n",
      "45/45 [==============================] - 4s 83ms/step - loss: 2.3242e-06 - accuracy: 1.0000 - val_loss: 3.7148e-06 - val_accuracy: 1.0000\n",
      "Epoch 26/50\n",
      "45/45 [==============================] - 4s 78ms/step - loss: 2.0330e-06 - accuracy: 1.0000 - val_loss: 3.2974e-06 - val_accuracy: 1.0000\n",
      "Epoch 27/50\n",
      "45/45 [==============================] - 4s 79ms/step - loss: 1.4016e-06 - accuracy: 1.0000 - val_loss: 3.1512e-06 - val_accuracy: 1.0000\n",
      "Epoch 28/50\n",
      "45/45 [==============================] - 4s 82ms/step - loss: 2.1533e-06 - accuracy: 1.0000 - val_loss: 2.9175e-06 - val_accuracy: 1.0000\n",
      "Epoch 29/50\n",
      "45/45 [==============================] - 3s 75ms/step - loss: 1.5558e-06 - accuracy: 1.0000 - val_loss: 2.8167e-06 - val_accuracy: 1.0000\n",
      "Epoch 30/50\n",
      "45/45 [==============================] - 4s 81ms/step - loss: 8.3037e-07 - accuracy: 1.0000 - val_loss: 2.9256e-06 - val_accuracy: 1.0000\n",
      "Epoch 31/50\n",
      "45/45 [==============================] - 4s 80ms/step - loss: 9.0595e-06 - accuracy: 1.0000 - val_loss: 2.8924e-06 - val_accuracy: 1.0000\n",
      "Epoch 32/50\n",
      "45/45 [==============================] - 4s 79ms/step - loss: 2.4080e-07 - accuracy: 1.0000 - val_loss: 2.7986e-06 - val_accuracy: 1.0000\n",
      "Epoch 33/50\n",
      "45/45 [==============================] - 4s 83ms/step - loss: 2.0501e-06 - accuracy: 1.0000 - val_loss: 3.1723e-06 - val_accuracy: 1.0000\n",
      "Epoch 34/50\n",
      "45/45 [==============================] - 4s 83ms/step - loss: 8.5127e-07 - accuracy: 1.0000 - val_loss: 2.9602e-06 - val_accuracy: 1.0000\n",
      "Epoch 35/50\n",
      "45/45 [==============================] - 4s 80ms/step - loss: 2.3872e-06 - accuracy: 1.0000 - val_loss: 2.9387e-06 - val_accuracy: 1.0000\n",
      "Epoch 36/50\n",
      "45/45 [==============================] - 4s 79ms/step - loss: 5.2643e-07 - accuracy: 1.0000 - val_loss: 2.8542e-06 - val_accuracy: 1.0000\n",
      "Epoch 37/50\n",
      "45/45 [==============================] - 4s 83ms/step - loss: 5.5914e-07 - accuracy: 1.0000 - val_loss: 2.4559e-06 - val_accuracy: 1.0000\n",
      "Epoch 38/50\n",
      "45/45 [==============================] - 4s 78ms/step - loss: 1.2852e-06 - accuracy: 1.0000 - val_loss: 1.9709e-06 - val_accuracy: 1.0000\n",
      "Epoch 39/50\n",
      "45/45 [==============================] - 4s 83ms/step - loss: 1.1371e-06 - accuracy: 1.0000 - val_loss: 1.7471e-06 - val_accuracy: 1.0000\n",
      "Epoch 40/50\n",
      "45/45 [==============================] - 4s 85ms/step - loss: 3.5277e-07 - accuracy: 1.0000 - val_loss: 1.6778e-06 - val_accuracy: 1.0000\n",
      "Epoch 41/50\n",
      "45/45 [==============================] - 4s 81ms/step - loss: 2.9408e-06 - accuracy: 1.0000 - val_loss: 1.5942e-06 - val_accuracy: 1.0000\n",
      "Epoch 42/50\n",
      "45/45 [==============================] - 4s 79ms/step - loss: 8.9347e-07 - accuracy: 1.0000 - val_loss: 1.4133e-06 - val_accuracy: 1.0000\n",
      "Epoch 43/50\n",
      "45/45 [==============================] - 4s 78ms/step - loss: 6.1259e-07 - accuracy: 1.0000 - val_loss: 1.3517e-06 - val_accuracy: 1.0000\n",
      "Epoch 44/50\n",
      "45/45 [==============================] - 4s 78ms/step - loss: 5.1273e-07 - accuracy: 1.0000 - val_loss: 1.2920e-06 - val_accuracy: 1.0000\n",
      "Epoch 45/50\n",
      "45/45 [==============================] - 4s 79ms/step - loss: 4.4473e-07 - accuracy: 1.0000 - val_loss: 1.2143e-06 - val_accuracy: 1.0000\n",
      "Epoch 46/50\n",
      "45/45 [==============================] - 4s 83ms/step - loss: 1.0772e-06 - accuracy: 1.0000 - val_loss: 9.7001e-07 - val_accuracy: 1.0000\n",
      "Epoch 47/50\n",
      "45/45 [==============================] - 4s 79ms/step - loss: 7.9571e-07 - accuracy: 1.0000 - val_loss: 9.1927e-07 - val_accuracy: 1.0000\n",
      "Epoch 48/50\n",
      "45/45 [==============================] - 3s 76ms/step - loss: 2.7087e-06 - accuracy: 1.0000 - val_loss: 1.0197e-06 - val_accuracy: 1.0000\n",
      "Epoch 49/50\n",
      "45/45 [==============================] - 4s 83ms/step - loss: 1.2118e-06 - accuracy: 1.0000 - val_loss: 9.6278e-07 - val_accuracy: 1.0000\n",
      "Epoch 50/50\n",
      "45/45 [==============================] - 4s 82ms/step - loss: 1.2255e-06 - accuracy: 1.0000 - val_loss: 8.2074e-07 - val_accuracy: 1.0000\n"
     ]
    }
   ],
   "source": [
    "loss = 'categorical_crossentropy'\n",
    "opt = tf.keras.optimizers.Adam(learning_rate= 0.001)\n",
    "metrics = ['accuracy']\n",
    "\n",
    "\n",
    "model2.compile(loss = loss, optimizer = opt, metrics = metrics)\n",
    "\n",
    "\n",
    "# fitting the model for training dataset\n",
    "history_2 = model2.fit(train_data, epochs = 50,\n",
    "                          validation_data = valid_data,\n",
    "                          validation_steps= valid_images//batch_size,\n",
    "                          steps_per_epoch= train_images//batch_size)"
   ]
  },
  {
   "cell_type": "code",
   "execution_count": 49,
   "id": "943cdce1",
   "metadata": {},
   "outputs": [
    {
     "data": {
      "image/png": "[encoded data removed]",
      "text/plain": [
       "<Figure size 432x288 with 1 Axes>"
      ]
     },
     "metadata": {
      "needs_background": "light"
     },
     "output_type": "display_data"
    }
   ],
   "source": [
    "plt.plot(history_2.history['accuracy'])\n",
    "plt.plot(history_2.history['val_accuracy'])\n",
    "plt.title('model accuracy')\n",
    "plt.ylabel('accuracy')\n",
    "plt.xlabel('epoch')\n",
    "plt.legend(['train', 'validation'], loc='lower left')\n",
    "plt.show()\n"
   ]
  },
  {
   "cell_type": "markdown",
   "id": "3ffc00fc",
   "metadata": {},
   "source": [
    "# Test Data"
   ]
  },
  {
   "cell_type": "markdown",
   "id": "4afee5f6",
   "metadata": {},
   "source": [
    "Prediction for model with out batch normalization "
   ]
  },
  {
   "cell_type": "code",
   "execution_count": 50,
   "id": "7492fb8e",
   "metadata": {},
   "outputs": [],
   "source": [
    "pred = model.predict(test_data)\n",
    "test_df['pred'] = np.argmax(pred, axis = -1)\n",
    "labels = dict((v,k) for k,v in train_data.class_indices.items())\n",
    "\n",
    "test_df['pred'] = test_df['pred'].map(labels)"
   ]
  },
  {
   "cell_type": "markdown",
   "id": "7e04aa3f",
   "metadata": {},
   "source": [
    "Prediction for model with batch normalization "
   ]
  },
  {
   "cell_type": "code",
   "execution_count": 51,
   "id": "a87b1b3b",
   "metadata": {},
   "outputs": [],
   "source": [
    "pred_2 = model2.predict(test_data)\n",
    "test_df['pred_2'] = np.argmax(pred, axis = -1)\n",
    "labels_2 = dict((v,k) for k,v in train_data.class_indices.items())\n",
    "\n",
    "test_df['pred_2'] = test_df['pred_2'].map(labels_2)"
   ]
  },
  {
   "cell_type": "code",
   "execution_count": null,
   "id": "168750d8",
   "metadata": {},
   "outputs": [],
   "source": []
  },
  {
   "cell_type": "code",
   "execution_count": null,
   "id": "d2462e16",
   "metadata": {},
   "outputs": [],
   "source": []
  },
  {
   "cell_type": "code",
   "execution_count": null,
   "id": "4f5ac318",
   "metadata": {},
   "outputs": [],
   "source": []
  }
 ],
 "metadata": {
  "kernelspec": {
   "display_name": "Python 3",
   "language": "python",
   "name": "python3"
  },
  "language_info": {
   "codemirror_mode": {
    "name": "ipython",
    "version": 3
   },
   "file_extension": ".py",
   "mimetype": "text/x-python",
   "name": "python",
   "nbconvert_exporter": "python",
   "pygments_lexer": "ipython3",
   "version": "3.9.15"
  }
 },
 "nbformat": 4,
 "nbformat_minor": 5
}
